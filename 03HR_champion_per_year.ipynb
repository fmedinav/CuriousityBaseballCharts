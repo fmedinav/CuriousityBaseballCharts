{
 "cells": [
  {
   "cell_type": "markdown",
   "id": "9dffd6bb",
   "metadata": {},
   "source": [
    "## Number of Home Runs per season by every Champion"
   ]
  },
  {
   "cell_type": "markdown",
   "id": "09898c59",
   "metadata": {},
   "source": [
    "Obtain the number of HR’s per season for each year’s HR champion and show it in a bar chart per year. Stats recording started in 1871."
   ]
  },
  {
   "cell_type": "markdown",
   "id": "c5eb280c",
   "metadata": {},
   "source": [
    "Obtener el número de HR’s por año de cada campeón de HR y ponerlo en una gráfica de barras por año. La recavación de estadísticas empezó en el año de 1871."
   ]
  },
  {
   "cell_type": "markdown",
   "id": "e06ca747",
   "metadata": {},
   "source": [
    "The set of databases can be found in this link. Consider it is a csv file. Find the Batting.csv data base in the Core folder.\n",
    "\n",
    "https://github.com/chadwickbureau/baseballdatabank/tree/master/core\n"
   ]
  },
  {
   "cell_type": "markdown",
   "id": "ec2b44e7",
   "metadata": {},
   "source": [
    "The raw data for the Batting data base is in\n",
    "\n",
    "https://raw.githubusercontent.com/chadwickbureau/baseballdatabank/master/core/Batting.csv"
   ]
  },
  {
   "cell_type": "code",
   "execution_count": 1,
   "id": "ceb40f3a",
   "metadata": {},
   "outputs": [],
   "source": [
    "import pandas as pd\n",
    "import numpy as np\n",
    "import matplotlib.pyplot as plt"
   ]
  },
  {
   "cell_type": "code",
   "execution_count": 2,
   "id": "fb92b019",
   "metadata": {},
   "outputs": [],
   "source": [
    "# Parameters used in the code. Change as needed\n",
    "DATA_BASE_PATH = 'https://raw.githubusercontent.com/chadwickbureau/baseballdatabank/master/core/Batting.csv'\n",
    "START_YEAR = 2000\n",
    "END_YEAR = 2022\n",
    "COLUMNS_TO_EXTRACT = ['playerID', 'yearID', 'HR']"
   ]
  },
  {
   "cell_type": "code",
   "execution_count": 3,
   "id": "982f6589",
   "metadata": {},
   "outputs": [
    {
     "data": {
      "text/html": [
       "<div>\n",
       "<style scoped>\n",
       "    .dataframe tbody tr th:only-of-type {\n",
       "        vertical-align: middle;\n",
       "    }\n",
       "\n",
       "    .dataframe tbody tr th {\n",
       "        vertical-align: top;\n",
       "    }\n",
       "\n",
       "    .dataframe thead th {\n",
       "        text-align: right;\n",
       "    }\n",
       "</style>\n",
       "<table border=\"1\" class=\"dataframe\">\n",
       "  <thead>\n",
       "    <tr style=\"text-align: right;\">\n",
       "      <th></th>\n",
       "      <th>playerID</th>\n",
       "      <th>yearID</th>\n",
       "      <th>HR</th>\n",
       "    </tr>\n",
       "  </thead>\n",
       "  <tbody>\n",
       "    <tr>\n",
       "      <th>0</th>\n",
       "      <td>abercda01</td>\n",
       "      <td>1871</td>\n",
       "      <td>0</td>\n",
       "    </tr>\n",
       "    <tr>\n",
       "      <th>1</th>\n",
       "      <td>addybo01</td>\n",
       "      <td>1871</td>\n",
       "      <td>0</td>\n",
       "    </tr>\n",
       "    <tr>\n",
       "      <th>2</th>\n",
       "      <td>allisar01</td>\n",
       "      <td>1871</td>\n",
       "      <td>0</td>\n",
       "    </tr>\n",
       "    <tr>\n",
       "      <th>3</th>\n",
       "      <td>allisdo01</td>\n",
       "      <td>1871</td>\n",
       "      <td>2</td>\n",
       "    </tr>\n",
       "    <tr>\n",
       "      <th>4</th>\n",
       "      <td>ansonca01</td>\n",
       "      <td>1871</td>\n",
       "      <td>0</td>\n",
       "    </tr>\n",
       "  </tbody>\n",
       "</table>\n",
       "</div>"
      ],
      "text/plain": [
       "    playerID  yearID  HR\n",
       "0  abercda01    1871   0\n",
       "1   addybo01    1871   0\n",
       "2  allisar01    1871   0\n",
       "3  allisdo01    1871   2\n",
       "4  ansonca01    1871   0"
      ]
     },
     "execution_count": 3,
     "metadata": {},
     "output_type": "execute_result"
    }
   ],
   "source": [
    "# Read the data base and construct a data frame with only the required columns\n",
    "battingDbFrame = pd.read_csv(DATA_BASE_PATH)\n",
    "hRStatsDf = battingDbFrame.loc[:, COLUMNS_TO_EXTRACT]\n",
    "hRStatsDf.head()"
   ]
  },
  {
   "cell_type": "code",
   "execution_count": 4,
   "id": "dc1a52c9",
   "metadata": {},
   "outputs": [
    {
     "data": {
      "text/html": [
       "<div>\n",
       "<style scoped>\n",
       "    .dataframe tbody tr th:only-of-type {\n",
       "        vertical-align: middle;\n",
       "    }\n",
       "\n",
       "    .dataframe tbody tr th {\n",
       "        vertical-align: top;\n",
       "    }\n",
       "\n",
       "    .dataframe thead th {\n",
       "        text-align: right;\n",
       "    }\n",
       "</style>\n",
       "<table border=\"1\" class=\"dataframe\">\n",
       "  <thead>\n",
       "    <tr style=\"text-align: right;\">\n",
       "      <th></th>\n",
       "      <th>playerID</th>\n",
       "      <th>yearID</th>\n",
       "      <th>HR</th>\n",
       "    </tr>\n",
       "  </thead>\n",
       "  <tbody>\n",
       "    <tr>\n",
       "      <th>0</th>\n",
       "      <td>sosasa01</td>\n",
       "      <td>2000</td>\n",
       "      <td>50</td>\n",
       "    </tr>\n",
       "    <tr>\n",
       "      <th>1</th>\n",
       "      <td>bondsba01</td>\n",
       "      <td>2001</td>\n",
       "      <td>73</td>\n",
       "    </tr>\n",
       "    <tr>\n",
       "      <th>2</th>\n",
       "      <td>rodrial01</td>\n",
       "      <td>2002</td>\n",
       "      <td>57</td>\n",
       "    </tr>\n",
       "    <tr>\n",
       "      <th>3</th>\n",
       "      <td>rodrial01</td>\n",
       "      <td>2003</td>\n",
       "      <td>47</td>\n",
       "    </tr>\n",
       "    <tr>\n",
       "      <th>4</th>\n",
       "      <td>thomeji01</td>\n",
       "      <td>2003</td>\n",
       "      <td>47</td>\n",
       "    </tr>\n",
       "  </tbody>\n",
       "</table>\n",
       "</div>"
      ],
      "text/plain": [
       "    playerID  yearID  HR\n",
       "0   sosasa01    2000  50\n",
       "1  bondsba01    2001  73\n",
       "2  rodrial01    2002  57\n",
       "3  rodrial01    2003  47\n",
       "4  thomeji01    2003  47"
      ]
     },
     "execution_count": 4,
     "metadata": {},
     "output_type": "execute_result"
    }
   ],
   "source": [
    "# Iterate throught the HR Stats Data Frame and store every year's champions stats\n",
    "championsDf = pd.DataFrame()\n",
    "for i in range(START_YEAR, END_YEAR):\n",
    "    condition1 = hRStatsDf.yearID == i\n",
    "    currentYearDf = hRStatsDf.loc[condition1, COLUMNS_TO_EXTRACT]\n",
    "    condition2 = hRStatsDf.HR == currentYearDf.HR.max()\n",
    "    currentYearChampionDf = currentYearDf.loc[condition2, COLUMNS_TO_EXTRACT]\n",
    "    championsDf = pd.concat([championsDf, currentYearChampionDf], ignore_index = True, axis = 0)\n",
    "\n",
    "championsDf.head()"
   ]
  },
  {
   "cell_type": "code",
   "execution_count": 5,
   "id": "35acb6fc",
   "metadata": {},
   "outputs": [
    {
     "data": {
      "image/png": "[encoded data removed]",
      "text/plain": [
       "<Figure size 640x480 with 1 Axes>"
      ]
     },
     "metadata": {},
     "output_type": "display_data"
    }
   ],
   "source": [
    "plt.bar(championsDf.yearID, championsDf.HR)\n",
    "plt.title('Number of Home Runs per season by every Champion')\n",
    "plt.xlabel('Season')\n",
    "plt.ylabel('HR\\'s')\n",
    "plt.legend(['MLB'])\n",
    "plt.grid()\n",
    "plt.show()"
   ]
  }
 ],
 "metadata": {
  "kernelspec": {
   "display_name": "Python 3 (ipykernel)",
   "language": "python",
   "name": "python3"
  },
  "language_info": {
   "codemirror_mode": {
    "name": "ipython",
    "version": 3
   },
   "file_extension": ".py",
   "mimetype": "text/x-python",
   "name": "python",
   "nbconvert_exporter": "python",
   "pygments_lexer": "ipython3",
   "version": "3.10.4"
  }
 },
 "nbformat": 4,
 "nbformat_minor": 5
}
