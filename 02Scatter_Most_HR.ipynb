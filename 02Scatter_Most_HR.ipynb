{
 "cells": [
  {
   "cell_type": "markdown",
   "id": "994a7982",
   "metadata": {},
   "source": [
    "## Top 10 seasons with most HR"
   ]
  },
  {
   "cell_type": "markdown",
   "id": "0ddee30c",
   "metadata": {},
   "source": [
    "Obtain a scatter with the 10 highest Home Runs seasons of MLB live ball era (1920 and ahead) using the Batting data base updated up to 2022. Do you find something odd in the graph?\n"
   ]
  },
  {
   "cell_type": "markdown",
   "id": "39345a7d",
   "metadata": {},
   "source": [
    "Obtener un diagrama de puntos (scatter) con las 10 temporadas con más HR en la live ball era de MLB (1920 en adelante) usando la base de datos batting actualizada hasta el 2022. ¿Encuentra algo extraño en la gráfica?"
   ]
  },
  {
   "cell_type": "markdown",
   "id": "704e8795",
   "metadata": {},
   "source": [
    "### The set of databases can be found in this link. Consider it is a csv file. Find the Batting.csv data base in the Core folder.\n",
    "https://github.com/chadwickbureau/baseballdatabank/tree/master/core"
   ]
  },
  {
   "cell_type": "code",
   "execution_count": 1,
   "id": "6cc8f1ba",
   "metadata": {},
   "outputs": [],
   "source": [
    "# Import libraries\n",
    "import pandas as pd\n",
    "import matplotlib.pyplot as plt"
   ]
  },
  {
   "cell_type": "code",
   "execution_count": 2,
   "id": "09b7fff1",
   "metadata": {},
   "outputs": [],
   "source": [
    "# Constants. Change these parameters to get a different graph\n",
    "NUMBER_OF_PLAYERS = 10\n",
    "START_YEAR = 1920\n",
    "END_YEAR = 2022"
   ]
  },
  {
   "cell_type": "code",
   "execution_count": 3,
   "id": "f460ea51",
   "metadata": {},
   "outputs": [],
   "source": [
    "# Read data base from the internet and create a pandas data frame with it\n",
    "DATA_BASE_PATH = 'https://raw.githubusercontent.com/chadwickbureau/baseballdatabank/master/core/Batting.csv'\n",
    "dataBaseDf = pd.read_csv(DATA_BASE_PATH)"
   ]
  },
  {
   "cell_type": "code",
   "execution_count": 4,
   "id": "e4fb3087",
   "metadata": {},
   "outputs": [
    {
     "data": {
      "text/html": [
       "<div>\n",
       "<style scoped>\n",
       "    .dataframe tbody tr th:only-of-type {\n",
       "        vertical-align: middle;\n",
       "    }\n",
       "\n",
       "    .dataframe tbody tr th {\n",
       "        vertical-align: top;\n",
       "    }\n",
       "\n",
       "    .dataframe thead th {\n",
       "        text-align: right;\n",
       "    }\n",
       "</style>\n",
       "<table border=\"1\" class=\"dataframe\">\n",
       "  <thead>\n",
       "    <tr style=\"text-align: right;\">\n",
       "      <th></th>\n",
       "      <th>playerID</th>\n",
       "      <th>yearID</th>\n",
       "      <th>HR</th>\n",
       "    </tr>\n",
       "  </thead>\n",
       "  <tbody>\n",
       "    <tr>\n",
       "      <th>0</th>\n",
       "      <td>abercda01</td>\n",
       "      <td>1871</td>\n",
       "      <td>0</td>\n",
       "    </tr>\n",
       "    <tr>\n",
       "      <th>1</th>\n",
       "      <td>addybo01</td>\n",
       "      <td>1871</td>\n",
       "      <td>0</td>\n",
       "    </tr>\n",
       "    <tr>\n",
       "      <th>2</th>\n",
       "      <td>allisar01</td>\n",
       "      <td>1871</td>\n",
       "      <td>0</td>\n",
       "    </tr>\n",
       "    <tr>\n",
       "      <th>3</th>\n",
       "      <td>allisdo01</td>\n",
       "      <td>1871</td>\n",
       "      <td>2</td>\n",
       "    </tr>\n",
       "    <tr>\n",
       "      <th>4</th>\n",
       "      <td>ansonca01</td>\n",
       "      <td>1871</td>\n",
       "      <td>0</td>\n",
       "    </tr>\n",
       "  </tbody>\n",
       "</table>\n",
       "</div>"
      ],
      "text/plain": [
       "    playerID  yearID  HR\n",
       "0  abercda01    1871   0\n",
       "1   addybo01    1871   0\n",
       "2  allisar01    1871   0\n",
       "3  allisdo01    1871   2\n",
       "4  ansonca01    1871   0"
      ]
     },
     "execution_count": 4,
     "metadata": {},
     "output_type": "execute_result"
    }
   ],
   "source": [
    "# Select the needed columns in a separate data frame\n",
    "columnsToRetrieve = ['playerID', 'yearID','HR']\n",
    "dataFrameHR = dataBaseDf.loc[:,columnsToRetrieve]\n",
    "dataFrameHR.head()"
   ]
  },
  {
   "cell_type": "code",
   "execution_count": 5,
   "id": "419d7f77",
   "metadata": {},
   "outputs": [
    {
     "data": {
      "text/html": [
       "<div>\n",
       "<style scoped>\n",
       "    .dataframe tbody tr th:only-of-type {\n",
       "        vertical-align: middle;\n",
       "    }\n",
       "\n",
       "    .dataframe tbody tr th {\n",
       "        vertical-align: top;\n",
       "    }\n",
       "\n",
       "    .dataframe thead th {\n",
       "        text-align: right;\n",
       "    }\n",
       "</style>\n",
       "<table border=\"1\" class=\"dataframe\">\n",
       "  <thead>\n",
       "    <tr style=\"text-align: right;\">\n",
       "      <th></th>\n",
       "      <th>playerID</th>\n",
       "      <th>yearID</th>\n",
       "      <th>HR</th>\n",
       "    </tr>\n",
       "  </thead>\n",
       "  <tbody>\n",
       "    <tr>\n",
       "      <th>80767</th>\n",
       "      <td>bondsba01</td>\n",
       "      <td>2001</td>\n",
       "      <td>73</td>\n",
       "    </tr>\n",
       "    <tr>\n",
       "      <th>77404</th>\n",
       "      <td>mcgwima01</td>\n",
       "      <td>1998</td>\n",
       "      <td>70</td>\n",
       "    </tr>\n",
       "    <tr>\n",
       "      <th>77751</th>\n",
       "      <td>sosasa01</td>\n",
       "      <td>1998</td>\n",
       "      <td>66</td>\n",
       "    </tr>\n",
       "    <tr>\n",
       "      <th>78720</th>\n",
       "      <td>mcgwima01</td>\n",
       "      <td>1999</td>\n",
       "      <td>65</td>\n",
       "    </tr>\n",
       "    <tr>\n",
       "      <th>81785</th>\n",
       "      <td>sosasa01</td>\n",
       "      <td>2001</td>\n",
       "      <td>64</td>\n",
       "    </tr>\n",
       "  </tbody>\n",
       "</table>\n",
       "</div>"
      ],
      "text/plain": [
       "        playerID  yearID  HR\n",
       "80767  bondsba01    2001  73\n",
       "77404  mcgwima01    1998  70\n",
       "77751   sosasa01    1998  66\n",
       "78720  mcgwima01    1999  65\n",
       "81785   sosasa01    2001  64"
      ]
     },
     "execution_count": 5,
     "metadata": {},
     "output_type": "execute_result"
    }
   ],
   "source": [
    "# Extract the n highest HR's seasons\n",
    "seasonsMostHR = dataFrameHR.nlargest(n=NUMBER_OF_PLAYERS, columns = 'HR')\n",
    "seasonsMostHR.head()"
   ]
  },
  {
   "cell_type": "code",
   "execution_count": 6,
   "id": "89205ca5",
   "metadata": {},
   "outputs": [
    {
     "data": {
      "image/png": "[encoded data removed]",
      "text/plain": [
       "<Figure size 640x480 with 1 Axes>"
      ]
     },
     "metadata": {},
     "output_type": "display_data"
    }
   ],
   "source": [
    "# Create the corresponding graph\n",
    "plt.scatter(seasonsMostHR.yearID, seasonsMostHR.HR)\n",
    "plt.annotate(seasonsMostHR.iloc[0,0], (seasonsMostHR.iloc[0,1], seasonsMostHR.iloc[0,2]))\n",
    "plt.title('Top ' + str(NUMBER_OF_PLAYERS) + ' seasons with most HR')\n",
    "plt.xlim([START_YEAR, END_YEAR])\n",
    "plt.xlabel('Year')\n",
    "plt.ylabel('HR\\'s')\n",
    "plt.grid()\n",
    "plt.show()"
   ]
  }
 ],
 "metadata": {
  "kernelspec": {
   "display_name": "Python 3 (ipykernel)",
   "language": "python",
   "name": "python3"
  },
  "language_info": {
   "codemirror_mode": {
    "name": "ipython",
    "version": 3
   },
   "file_extension": ".py",
   "mimetype": "text/x-python",
   "name": "python",
   "nbconvert_exporter": "python",
   "pygments_lexer": "ipython3",
   "version": "3.10.4"
  }
 },
 "nbformat": 4,
 "nbformat_minor": 5
}
